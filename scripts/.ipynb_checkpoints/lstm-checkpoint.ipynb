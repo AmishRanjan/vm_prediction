{
 "cells": [
  {
   "cell_type": "code",
   "execution_count": 4,
   "metadata": {},
   "outputs": [
    {
     "name": "stderr",
     "output_type": "stream",
     "text": [
      "/home/cocoa/anaconda3/lib/python3.6/site-packages/h5py/__init__.py:34: FutureWarning: Conversion of the second argument of issubdtype from `float` to `np.floating` is deprecated. In future, it will be treated as `np.float64 == np.dtype(float).type`.\n",
      "  from ._conv import register_converters as _register_converters\n",
      "Using TensorFlow backend.\n"
     ]
    }
   ],
   "source": [
    "import pandas as pd\n",
    "import numpy as np\n",
    "import math\n",
    "\n",
    "from os import listdir\n",
    "from os.path import isfile, join\n",
    "\n",
    "from keras.models import Sequential\n",
    "from keras.layers import Dense\n",
    "from keras.layers import LSTM\n",
    "\n",
    "from sklearn.metrics import mean_absolute_error"
   ]
  },
  {
   "cell_type": "code",
   "execution_count": 5,
   "metadata": {
    "collapsed": true
   },
   "outputs": [],
   "source": [
    "def read_all_data():\n",
    "    mypath = \"/home/cocoa/Desktop/data_science/vm_prediction/planetlab_data/20110303/\"\n",
    "\n",
    "    docs = [f for f in listdir(mypath) if isfile(join(mypath, f))]\n",
    "\n",
    "    all_data = []\n",
    "    for doc in docs:\n",
    "        all_data.append(np.loadtxt(mypath + doc))\n",
    "\n",
    "    return(np.asarray(all_data))"
   ]
  },
  {
   "cell_type": "code",
   "execution_count": 6,
   "metadata": {
    "collapsed": true
   },
   "outputs": [],
   "source": [
    "def split_data(dataset):\n",
    "    train_size = int(len(dataset) * 0.67)\n",
    "    test_size = len(dataset) - train_size\n",
    "    train, test = dataset[0:train_size,:], dataset[train_size:len(dataset),:]\n",
    "    print(len(train), len(test))\n",
    "    return(train,test)\n"
   ]
  },
  {
   "cell_type": "code",
   "execution_count": 7,
   "metadata": {
    "collapsed": true
   },
   "outputs": [],
   "source": [
    "def create_dataset(train_data,test_data,time_ahead):\n",
    "    train_y = train_data[time_ahead:,:]\n",
    "    train_x = train_data[0:-time_ahead,:]\n",
    "    test_y = test_data[time_ahead:,:]\n",
    "    test_x = test_data[0:-time_ahead,:]\n",
    "    return(train_x,train_y,test_x,test_y)"
   ]
  },
  {
   "cell_type": "code",
   "execution_count": 8,
   "metadata": {
    "collapsed": true
   },
   "outputs": [],
   "source": [
    "data = read_all_data()\n",
    "data = data.reshape(288,1052)"
   ]
  },
  {
   "cell_type": "code",
   "execution_count": 9,
   "metadata": {},
   "outputs": [
    {
     "name": "stdout",
     "output_type": "stream",
     "text": [
      "192 96\n"
     ]
    }
   ],
   "source": [
    "train, test = split_data(data)"
   ]
  },
  {
   "cell_type": "code",
   "execution_count": 10,
   "metadata": {
    "collapsed": true
   },
   "outputs": [],
   "source": [
    "time_ahead = 1\n",
    "train.shape\n",
    "x_train, y_train, x_test, y_test = create_dataset(train,test,time_ahead)"
   ]
  },
  {
   "cell_type": "code",
   "execution_count": null,
   "metadata": {
    "collapsed": true
   },
   "outputs": [],
   "source": [
    "def create_model(x_train, y_train, x_test):\n",
    "    # reshape input to be [samples, time steps, features]\n",
    "    x_train = np.reshape(x_train, (x_train.shape[0], 1, x_train.shape[1]))\n",
    "    x_test = np.reshape(x_test, (x_test.shape[0], 1, x_test.shape[1]))\n",
    "    model = Sequential()\n",
    "    model.add(LSTM(100, input_shape=(1, x_train.shape[2])))\n",
    "    model.add(Dense(x_train.shape[2]))\n",
    "    model.compile(loss='mean_squared_error', optimizer='adam')\n",
    "    model.fit(x_train, y_train, epochs=100, batch_size=1, verbose=2)\n",
    "    trainPredict = model.predict(x_train)\n",
    "    testPredict = model.predict(x_test)\n",
    "    return(trainPredict,testPredict)"
   ]
  },
  {
   "cell_type": "code",
   "execution_count": null,
   "metadata": {},
   "outputs": [
    {
     "name": "stdout",
     "output_type": "stream",
     "text": [
      "Epoch 1/100\n",
      " - 13s - loss: 402.7044\n",
      "Epoch 2/100\n",
      " - 15s - loss: 340.1865\n",
      "Epoch 3/100\n"
     ]
    }
   ],
   "source": [
    "train_predict, test_predict = create_model(x_train,y_train,x_test)"
   ]
  },
  {
   "cell_type": "code",
   "execution_count": 96,
   "metadata": {},
   "outputs": [
    {
     "name": "stdout",
     "output_type": "stream",
     "text": [
      "11.916158480803585\n"
     ]
    }
   ],
   "source": [
    "print(mean_absolute_error(y_test, test_predict))"
   ]
  },
  {
   "cell_type": "code",
   "execution_count": null,
   "metadata": {
    "collapsed": true
   },
   "outputs": [],
   "source": []
  }
 ],
 "metadata": {
  "kernelspec": {
   "display_name": "Python 3",
   "language": "python",
   "name": "python3"
  },
  "language_info": {
   "codemirror_mode": {
    "name": "ipython",
    "version": 3
   },
   "file_extension": ".py",
   "mimetype": "text/x-python",
   "name": "python",
   "nbconvert_exporter": "python",
   "pygments_lexer": "ipython3",
   "version": "3.6.3"
  }
 },
 "nbformat": 4,
 "nbformat_minor": 2
}
