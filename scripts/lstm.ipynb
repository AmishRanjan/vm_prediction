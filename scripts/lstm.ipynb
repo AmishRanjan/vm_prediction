{
 "cells": [
  {
   "cell_type": "code",
   "execution_count": 94,
   "metadata": {},
   "outputs": [],
   "source": [
    "import pandas as pd\n",
    "import numpy as np\n",
    "import math\n",
    "\n",
    "from os import listdir\n",
    "from os.path import isfile, join\n",
    "\n",
    "from keras.models import Sequential\n",
    "from keras.layers import Dense\n",
    "from keras.layers import LSTM\n",
    "\n",
    "from sklearn.metrics import mean_absolute_error"
   ]
  },
  {
   "cell_type": "code",
   "execution_count": 52,
   "metadata": {},
   "outputs": [],
   "source": [
    "def read_all_data():\n",
    "    mypath = \"/home/cocoa/Desktop/data_science/vm_prediction/planetlab_data/20110303/\"\n",
    "\n",
    "    docs = [f for f in listdir(mypath) if isfile(join(mypath, f))]\n",
    "\n",
    "    all_data = []\n",
    "    for doc in docs:\n",
    "        all_data.append(np.loadtxt(mypath + doc))\n",
    "\n",
    "    return(np.asarray(all_data))"
   ]
  },
  {
   "cell_type": "code",
   "execution_count": 67,
   "metadata": {
    "collapsed": true
   },
   "outputs": [],
   "source": [
    "def split_data(dataset):\n",
    "    train_size = int(len(dataset) * 0.67)\n",
    "    test_size = len(dataset) - train_size\n",
    "    train, test = dataset[0:train_size,:], dataset[train_size:len(dataset),:]\n",
    "    print(len(train), len(test))\n",
    "    return(train,test)\n"
   ]
  },
  {
   "cell_type": "code",
   "execution_count": 77,
   "metadata": {
    "collapsed": true
   },
   "outputs": [],
   "source": [
    "def create_dataset(train_data,test_data,time_ahead):\n",
    "    train_y = train_data[time_ahead:,:]\n",
    "    train_x = train_data[0:-time_ahead,:]\n",
    "    test_y = test_data[time_ahead:,:]\n",
    "    test_x = test_data[0:-time_ahead,:]\n",
    "    return(train_x,train_y,test_x,test_y)"
   ]
  },
  {
   "cell_type": "code",
   "execution_count": 70,
   "metadata": {},
   "outputs": [],
   "source": [
    "data = read_all_data()\n",
    "data = data.reshape(288,1052)"
   ]
  },
  {
   "cell_type": "code",
   "execution_count": 75,
   "metadata": {},
   "outputs": [
    {
     "name": "stdout",
     "output_type": "stream",
     "text": [
      "192 96\n"
     ]
    }
   ],
   "source": [
    "train, test = split_data(data)"
   ]
  },
  {
   "cell_type": "code",
   "execution_count": 80,
   "metadata": {},
   "outputs": [],
   "source": [
    "time_ahead = 1\n",
    "train.shape\n",
    "x_train, y_train, x_test, y_test = create_dataset(train,test,time_ahead)"
   ]
  },
  {
   "cell_type": "code",
   "execution_count": 91,
   "metadata": {
    "collapsed": true
   },
   "outputs": [],
   "source": [
    "def create_model(x_train, y_train, x_test):\n",
    "    # reshape input to be [samples, time steps, features]\n",
    "    x_train = np.reshape(x_train, (x_train.shape[0], 1, x_train.shape[1]))\n",
    "    x_test = np.reshape(x_test, (x_test.shape[0], 1, x_test.shape[1]))\n",
    "    model = Sequential()\n",
    "    model.add(LSTM(4, input_shape=(1, x_train.shape[2])))\n",
    "    model.add(Dense(x_train.shape[2]))\n",
    "    model.compile(loss='mean_squared_error', optimizer='adam')\n",
    "    model.fit(x_train, y_train, epochs=100, batch_size=1, verbose=2)\n",
    "    trainPredict = model.predict(x_train)\n",
    "    testPredict = model.predict(x_test)\n",
    "    return(trainPredict,testPredict)"
   ]
  },
  {
   "cell_type": "code",
   "execution_count": 92,
   "metadata": {},
   "outputs": [
    {
     "name": "stdout",
     "output_type": "stream",
     "text": [
      "Epoch 1/100\n",
      " - 13s - loss: 441.1782\n",
      "Epoch 2/100\n",
      " - 8s - loss: 434.5531\n",
      "Epoch 3/100\n",
      " - 8s - loss: 428.0465\n",
      "Epoch 4/100\n",
      " - 8s - loss: 421.8606\n",
      "Epoch 5/100\n",
      " - 10s - loss: 415.9489\n",
      "Epoch 6/100\n",
      " - 10s - loss: 410.2948\n",
      "Epoch 7/100\n",
      " - 13s - loss: 404.8801\n",
      "Epoch 8/100\n",
      " - 13s - loss: 399.6948\n",
      "Epoch 9/100\n",
      " - 13s - loss: 394.7108\n",
      "Epoch 10/100\n",
      " - 12s - loss: 389.9251\n",
      "Epoch 11/100\n",
      " - 8s - loss: 385.3617\n",
      "Epoch 12/100\n",
      " - 10s - loss: 380.9955\n",
      "Epoch 13/100\n",
      " - 9s - loss: 376.8010\n",
      "Epoch 14/100\n",
      " - 14s - loss: 372.7856\n",
      "Epoch 15/100\n",
      " - 13s - loss: 368.9306\n",
      "Epoch 16/100\n",
      " - 14s - loss: 365.2709\n",
      "Epoch 17/100\n",
      " - 12s - loss: 361.7430\n",
      "Epoch 18/100\n",
      " - 10s - loss: 358.3894\n",
      "Epoch 19/100\n",
      " - 10s - loss: 355.1729\n",
      "Epoch 20/100\n",
      " - 9s - loss: 352.0945\n",
      "Epoch 21/100\n",
      " - 9s - loss: 349.1621\n",
      "Epoch 22/100\n",
      " - 9s - loss: 346.3516\n",
      "Epoch 23/100\n",
      " - 9s - loss: 343.6635\n",
      "Epoch 24/100\n",
      " - 8s - loss: 341.0908\n",
      "Epoch 25/100\n",
      " - 9s - loss: 338.6375\n",
      "Epoch 26/100\n",
      " - 10s - loss: 336.3212\n",
      "Epoch 27/100\n",
      " - 13s - loss: 334.1026\n",
      "Epoch 28/100\n",
      " - 13s - loss: 331.9738\n",
      "Epoch 29/100\n",
      " - 15s - loss: 329.9459\n",
      "Epoch 30/100\n",
      " - 14s - loss: 328.0138\n",
      "Epoch 31/100\n",
      " - 11s - loss: 326.1763\n",
      "Epoch 32/100\n",
      " - 13s - loss: 324.4226\n",
      "Epoch 33/100\n",
      " - 13s - loss: 322.7498\n",
      "Epoch 34/100\n",
      " - 13s - loss: 321.1609\n",
      "Epoch 35/100\n",
      " - 8s - loss: 319.6391\n",
      "Epoch 36/100\n",
      " - 8s - loss: 318.1998\n",
      "Epoch 37/100\n",
      " - 12s - loss: 316.8221\n",
      "Epoch 38/100\n",
      " - 13s - loss: 315.5316\n",
      "Epoch 39/100\n",
      " - 13s - loss: 314.2953\n",
      "Epoch 40/100\n",
      " - 12s - loss: 313.1227\n",
      "Epoch 41/100\n",
      " - 10s - loss: 312.0052\n",
      "Epoch 42/100\n",
      " - 9s - loss: 310.9445\n",
      "Epoch 43/100\n",
      " - 12s - loss: 309.9284\n",
      "Epoch 44/100\n",
      " - 10s - loss: 308.9673\n",
      "Epoch 45/100\n",
      " - 10s - loss: 308.0572\n",
      "Epoch 46/100\n",
      " - 11s - loss: 307.1869\n",
      "Epoch 47/100\n",
      " - 9s - loss: 306.3689\n",
      "Epoch 48/100\n",
      " - 8s - loss: 305.5837\n",
      "Epoch 49/100\n",
      " - 8s - loss: 304.8428\n",
      "Epoch 50/100\n",
      " - 8s - loss: 304.1514\n",
      "Epoch 51/100\n",
      " - 8s - loss: 303.4766\n",
      "Epoch 52/100\n",
      " - 8s - loss: 302.8465\n",
      "Epoch 53/100\n",
      " - 8s - loss: 302.2445\n",
      "Epoch 54/100\n",
      " - 7s - loss: 301.6795\n",
      "Epoch 55/100\n",
      " - 8s - loss: 301.1407\n",
      "Epoch 56/100\n",
      " - 8s - loss: 300.6299\n",
      "Epoch 57/100\n",
      " - 8s - loss: 300.1429\n",
      "Epoch 58/100\n",
      " - 8s - loss: 299.6875\n",
      "Epoch 59/100\n",
      " - 7s - loss: 299.2493\n",
      "Epoch 60/100\n",
      " - 9s - loss: 298.8351\n",
      "Epoch 61/100\n",
      " - 8s - loss: 298.4484\n",
      "Epoch 62/100\n",
      " - 8s - loss: 298.0739\n",
      "Epoch 63/100\n",
      " - 7s - loss: 297.7181\n",
      "Epoch 64/100\n",
      " - 7s - loss: 297.3889\n",
      "Epoch 65/100\n",
      " - 8s - loss: 297.0748\n",
      "Epoch 66/100\n",
      " - 9s - loss: 296.7694\n",
      "Epoch 67/100\n",
      " - 8s - loss: 296.4919\n",
      "Epoch 68/100\n",
      " - 7s - loss: 296.2264\n",
      "Epoch 69/100\n",
      " - 8s - loss: 295.9697\n",
      "Epoch 70/100\n",
      " - 9s - loss: 295.7310\n",
      "Epoch 71/100\n",
      " - 8s - loss: 295.4970\n",
      "Epoch 72/100\n",
      " - 10s - loss: 295.2913\n",
      "Epoch 73/100\n",
      " - 8s - loss: 295.0817\n",
      "Epoch 74/100\n",
      " - 10s - loss: 294.8905\n",
      "Epoch 75/100\n",
      " - 9s - loss: 294.7019\n",
      "Epoch 76/100\n",
      " - 8s - loss: 294.5284\n",
      "Epoch 77/100\n",
      " - 8s - loss: 294.3588\n",
      "Epoch 78/100\n",
      " - 10s - loss: 294.2075\n",
      "Epoch 79/100\n",
      " - 9s - loss: 294.0594\n",
      "Epoch 80/100\n",
      " - 10s - loss: 293.9142\n",
      "Epoch 81/100\n",
      " - 14s - loss: 293.7872\n",
      "Epoch 82/100\n",
      " - 10s - loss: 293.6539\n",
      "Epoch 83/100\n",
      " - 9s - loss: 293.5417\n",
      "Epoch 84/100\n",
      " - 10s - loss: 293.4215\n",
      "Epoch 85/100\n",
      " - 10s - loss: 293.3260\n",
      "Epoch 86/100\n",
      " - 10s - loss: 293.2178\n",
      "Epoch 87/100\n",
      " - 10s - loss: 293.1211\n",
      "Epoch 88/100\n",
      " - 8s - loss: 293.0291\n",
      "Epoch 89/100\n",
      " - 7s - loss: 292.9529\n",
      "Epoch 90/100\n",
      " - 8s - loss: 292.8653\n",
      "Epoch 91/100\n",
      " - 7s - loss: 292.7911\n",
      "Epoch 92/100\n",
      " - 8s - loss: 292.7129\n",
      "Epoch 93/100\n",
      " - 7s - loss: 292.6432\n",
      "Epoch 94/100\n",
      " - 9s - loss: 292.5795\n",
      "Epoch 95/100\n",
      " - 9s - loss: 292.5184\n",
      "Epoch 96/100\n",
      " - 7s - loss: 292.4588\n",
      "Epoch 97/100\n",
      " - 9s - loss: 292.4072\n",
      "Epoch 98/100\n",
      " - 7s - loss: 292.3505\n",
      "Epoch 99/100\n",
      " - 12s - loss: 292.3035\n",
      "Epoch 100/100\n",
      " - 12s - loss: 292.2544\n"
     ]
    }
   ],
   "source": [
    "train_predict, test_predict = create_model(x_train,y_train,x_test)"
   ]
  },
  {
   "cell_type": "code",
   "execution_count": 96,
   "metadata": {},
   "outputs": [
    {
     "name": "stdout",
     "output_type": "stream",
     "text": [
      "11.916158480803585\n"
     ]
    }
   ],
   "source": [
    "print(mean_absolute_error(y_test, test_predict))"
   ]
  },
  {
   "cell_type": "code",
   "execution_count": null,
   "metadata": {
    "collapsed": true
   },
   "outputs": [],
   "source": []
  }
 ],
 "metadata": {
  "kernelspec": {
   "display_name": "Python 3",
   "language": "python",
   "name": "python3"
  },
  "language_info": {
   "codemirror_mode": {
    "name": "ipython",
    "version": 3
   },
   "file_extension": ".py",
   "mimetype": "text/x-python",
   "name": "python",
   "nbconvert_exporter": "python",
   "pygments_lexer": "ipython3",
   "version": "3.6.3"
  }
 },
 "nbformat": 4,
 "nbformat_minor": 2
}
