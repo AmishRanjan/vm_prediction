{
 "cells": [
  {
   "cell_type": "code",
   "execution_count": 17,
   "metadata": {},
   "outputs": [],
   "source": [
    "import pandas as pd\n",
    "import numpy as np\n",
    "import math\n",
    "\n",
    "from os import listdir\n",
    "from os.path import isfile, join\n",
    "\n",
    "from keras.models import Sequential\n",
    "from keras.layers import Dense\n",
    "from keras.layers import LSTM\n",
    "from keras.layers import Dropout\n",
    "\n",
    "from sklearn.metrics import mean_absolute_error"
   ]
  },
  {
   "cell_type": "code",
   "execution_count": 18,
   "metadata": {
    "collapsed": true
   },
   "outputs": [],
   "source": [
    "def read_all_data():\n",
    "    mypath = \"/home/cocoa/Desktop/data_science/vm_prediction/planetlab_data/20110303/\"\n",
    "\n",
    "    docs = [f for f in listdir(mypath) if isfile(join(mypath, f))]\n",
    "\n",
    "    all_data = []\n",
    "    for doc in docs:\n",
    "        all_data.append(np.loadtxt(mypath + doc))\n",
    "\n",
    "    return(np.asarray(all_data))"
   ]
  },
  {
   "cell_type": "code",
   "execution_count": 19,
   "metadata": {
    "collapsed": true
   },
   "outputs": [],
   "source": [
    "def split_data(dataset):\n",
    "    train_size = int(len(dataset) * 0.67)\n",
    "    test_size = len(dataset) - train_size\n",
    "    train, test = dataset[0:train_size,:], dataset[train_size:len(dataset),:]\n",
    "    print(len(train), len(test))\n",
    "    return(train,test)\n"
   ]
  },
  {
   "cell_type": "code",
   "execution_count": 20,
   "metadata": {
    "collapsed": true
   },
   "outputs": [],
   "source": [
    "def create_dataset(train_data,test_data,time_ahead):\n",
    "    train_y = train_data[time_ahead:,:]\n",
    "    train_x = train_data[0:-time_ahead,:]\n",
    "    test_y = test_data[time_ahead:,:]\n",
    "    test_x = test_data[0:-time_ahead,:]\n",
    "    return(train_x,train_y,test_x,test_y)"
   ]
  },
  {
   "cell_type": "code",
   "execution_count": 21,
   "metadata": {
    "collapsed": true
   },
   "outputs": [],
   "source": [
    "data = read_all_data()\n",
    "data = data.reshape(288,1052)"
   ]
  },
  {
   "cell_type": "code",
   "execution_count": 22,
   "metadata": {},
   "outputs": [
    {
     "name": "stdout",
     "output_type": "stream",
     "text": [
      "192 96\n"
     ]
    }
   ],
   "source": [
    "train, test = split_data(data)"
   ]
  },
  {
   "cell_type": "code",
   "execution_count": 23,
   "metadata": {
    "collapsed": true
   },
   "outputs": [],
   "source": [
    "time_ahead = 1\n",
    "train.shape\n",
    "x_train, y_train, x_test, y_test = create_dataset(train,test,time_ahead)"
   ]
  },
  {
   "cell_type": "code",
   "execution_count": 44,
   "metadata": {
    "collapsed": true
   },
   "outputs": [],
   "source": [
    "def create_model(x_train, y_train, x_test):\n",
    "    drop = 0.1\n",
    "    # reshape input to be [samples, time steps, features]\n",
    "    x_train = np.reshape(x_train, (x_train.shape[0], 1, x_train.shape[1]))\n",
    "    x_test = np.reshape(x_test, (x_test.shape[0], 1, x_test.shape[1]))\n",
    "    model = Sequential()\n",
    "    model.add(LSTM(300, return_sequences=True, input_shape=(1, x_train.shape[2])))\n",
    "    model.add(LSTM(300))\n",
    "    model.add(Dense(x_train.shape[2]))\n",
    "    model.compile(loss='mean_squared_error', optimizer='adam')\n",
    "    model.fit(x_train, y_train, epochs=27, batch_size=1, verbose=2)\n",
    "    trainPredict = model.predict(x_train)\n",
    "    testPredict = model.predict(x_test)\n",
    "    return(trainPredict,testPredict)"
   ]
  },
  {
   "cell_type": "code",
   "execution_count": 45,
   "metadata": {},
   "outputs": [
    {
     "name": "stdout",
     "output_type": "stream",
     "text": [
      "Epoch 1/27\n",
      " - 23s - loss: 327.5418\n",
      "Epoch 2/27\n",
      " - 23s - loss: 294.0495\n",
      "Epoch 3/27\n",
      " - 23s - loss: 294.6207\n",
      "Epoch 4/27\n",
      " - 22s - loss: 294.6820\n",
      "Epoch 5/27\n",
      " - 23s - loss: 294.4160\n",
      "Epoch 6/27\n",
      " - 24s - loss: 294.3308\n",
      "Epoch 7/27\n",
      " - 22s - loss: 294.7758\n",
      "Epoch 8/27\n",
      " - 23s - loss: 294.9023\n",
      "Epoch 9/27\n",
      " - 23s - loss: 294.3187\n",
      "Epoch 10/27\n",
      " - 23s - loss: 294.5058\n",
      "Epoch 11/27\n",
      " - 23s - loss: 293.5977\n",
      "Epoch 12/27\n",
      " - 23s - loss: 294.1631\n",
      "Epoch 13/27\n",
      " - 23s - loss: 293.6303\n",
      "Epoch 14/27\n",
      " - 21s - loss: 293.6304\n",
      "Epoch 15/27\n",
      " - 22s - loss: 293.5825\n",
      "Epoch 16/27\n",
      " - 23s - loss: 293.6180\n",
      "Epoch 17/27\n",
      " - 24s - loss: 293.2656\n",
      "Epoch 18/27\n",
      " - 22s - loss: 292.8037\n",
      "Epoch 19/27\n",
      " - 21s - loss: 293.4908\n",
      "Epoch 20/27\n",
      " - 22s - loss: 292.6061\n",
      "Epoch 21/27\n",
      " - 21s - loss: 292.3725\n",
      "Epoch 22/27\n",
      " - 23s - loss: 292.9842\n",
      "Epoch 23/27\n",
      " - 24s - loss: 291.8041\n",
      "Epoch 24/27\n",
      " - 22s - loss: 291.7716\n",
      "Epoch 25/27\n",
      " - 21s - loss: 290.3504\n",
      "Epoch 26/27\n",
      " - 22s - loss: 290.7169\n",
      "Epoch 27/27\n",
      " - 22s - loss: 291.2225\n"
     ]
    }
   ],
   "source": [
    "train_predict, test_predict = create_model(x_train,y_train,x_test)"
   ]
  },
  {
   "cell_type": "code",
   "execution_count": 46,
   "metadata": {},
   "outputs": [
    {
     "name": "stdout",
     "output_type": "stream",
     "text": [
      "12.261790961333697\n"
     ]
    }
   ],
   "source": [
    "print(mean_absolute_error(y_test, test_predict))"
   ]
  },
  {
   "cell_type": "code",
   "execution_count": 31,
   "metadata": {},
   "outputs": [
    {
     "data": {
      "text/plain": [
       "(191, 1052)"
      ]
     },
     "execution_count": 31,
     "metadata": {},
     "output_type": "execute_result"
    }
   ],
   "source": []
  },
  {
   "cell_type": "code",
   "execution_count": null,
   "metadata": {
    "collapsed": true
   },
   "outputs": [],
   "source": []
  }
 ],
 "metadata": {
  "kernelspec": {
   "display_name": "Python 3",
   "language": "python",
   "name": "python3"
  },
  "language_info": {
   "codemirror_mode": {
    "name": "ipython",
    "version": 3
   },
   "file_extension": ".py",
   "mimetype": "text/x-python",
   "name": "python",
   "nbconvert_exporter": "python",
   "pygments_lexer": "ipython3",
   "version": "3.6.3"
  }
 },
 "nbformat": 4,
 "nbformat_minor": 2
}
