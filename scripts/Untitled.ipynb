{
 "cells": [
  {
   "cell_type": "code",
   "execution_count": 77,
   "metadata": {},
   "outputs": [],
   "source": [
    "import pandas as pd\n",
    "import numpy as np\n",
    "import math\n",
    "\n",
    "from os import listdir\n",
    "from os.path import isfile, join\n",
    "\n",
    "from keras.models import Sequential\n",
    "from keras.layers import Dense\n",
    "from keras.layers import LSTM, Dropout\n",
    "\n",
    "from sklearn.metrics import mean_absolute_error"
   ]
  },
  {
   "cell_type": "code",
   "execution_count": 8,
   "metadata": {
    "collapsed": true
   },
   "outputs": [],
   "source": [
    "def read_all_data():\n",
    "    mypath = \"/home/cocoa/Desktop/data_science/vm_prediction/planetlab_data/20110303/\"\n",
    "\n",
    "    docs = [f for f in listdir(mypath) if isfile(join(mypath, f))]\n",
    "\n",
    "    all_data = []\n",
    "    for doc in docs:\n",
    "        all_data.append(np.loadtxt(mypath + doc))\n",
    "\n",
    "    return(np.asarray(all_data))"
   ]
  },
  {
   "cell_type": "code",
   "execution_count": 9,
   "metadata": {
    "collapsed": true
   },
   "outputs": [],
   "source": [
    "def split_data(dataset):\n",
    "    train_size = int(len(dataset) * 0.67)\n",
    "    test_size = len(dataset) - train_size\n",
    "    train, test = dataset[0:train_size,:], dataset[train_size:len(dataset),:]\n",
    "    print(len(train), len(test))\n",
    "    return(train,test)"
   ]
  },
  {
   "cell_type": "code",
   "execution_count": 10,
   "metadata": {
    "collapsed": true
   },
   "outputs": [],
   "source": [
    "def create_dataset(train_data,test_data,time_ahead):\n",
    "    train_y = train_data[time_ahead:,:]\n",
    "    train_x = train_data[0:-time_ahead,:]\n",
    "    test_y = test_data[time_ahead:,:]\n",
    "    test_x = test_data[0:-time_ahead,:]\n",
    "    return(train_x,train_y,test_x,test_y)"
   ]
  },
  {
   "cell_type": "code",
   "execution_count": 11,
   "metadata": {
    "collapsed": true
   },
   "outputs": [],
   "source": [
    "data = read_all_data()\n",
    "data = data.reshape(288,1052)"
   ]
  },
  {
   "cell_type": "code",
   "execution_count": 12,
   "metadata": {},
   "outputs": [
    {
     "name": "stdout",
     "output_type": "stream",
     "text": [
      "192 96\n"
     ]
    }
   ],
   "source": [
    "train, test = split_data(data)"
   ]
  },
  {
   "cell_type": "code",
   "execution_count": 13,
   "metadata": {},
   "outputs": [],
   "source": [
    "time_ahead = 1\n",
    "train.shape\n",
    "x_train, y_train, x_test, y_test = create_dataset(train,test,time_ahead)"
   ]
  },
  {
   "cell_type": "code",
   "execution_count": 55,
   "metadata": {},
   "outputs": [],
   "source": []
  },
  {
   "cell_type": "code",
   "execution_count": null,
   "metadata": {},
   "outputs": [],
   "source": []
  },
  {
   "cell_type": "code",
   "execution_count": 90,
   "metadata": {
    "collapsed": true
   },
   "outputs": [],
   "source": [
    "def new_model(  drop=0.2):\n",
    "    model = Sequential()\n",
    "\n",
    "    # Add an input layer \n",
    "    model.add(Dense(300, activation='relu', input_shape=(1052,)))\n",
    "    model.add(Dropout(drop))\n",
    "    model.add(Dense(105, activation='relu'))\n",
    "    model.add(Dropout(drop))\n",
    "    model.add(Dense(1052, activation='sigmoid'))\n",
    "    model.compile(loss='mean_squared_error', optimizer='adam')\n",
    "    return model"
   ]
  },
  {
   "cell_type": "code",
   "execution_count": 91,
   "metadata": {},
   "outputs": [
    {
     "name": "stdout",
     "output_type": "stream",
     "text": [
      "Epoch 1/100\n",
      " - 2s - loss: 428.9142\n",
      "Epoch 2/100\n",
      " - 0s - loss: 423.5405\n",
      "Epoch 3/100\n",
      " - 0s - loss: 421.2211\n",
      "Epoch 4/100\n",
      " - 0s - loss: 420.6011\n",
      "Epoch 5/100\n",
      " - 1s - loss: 420.4410\n",
      "Epoch 6/100\n",
      " - 0s - loss: 420.4115\n",
      "Epoch 7/100\n",
      " - 0s - loss: 420.4077\n",
      "Epoch 8/100\n",
      " - 0s - loss: 420.4039\n",
      "Epoch 9/100\n",
      " - 1s - loss: 420.3951\n",
      "Epoch 10/100\n",
      " - 0s - loss: 420.3845\n",
      "Epoch 11/100\n",
      " - 0s - loss: 420.3850\n",
      "Epoch 12/100\n",
      " - 1s - loss: 420.3836\n",
      "Epoch 13/100\n",
      " - 0s - loss: 420.3848\n",
      "Epoch 14/100\n",
      " - 1s - loss: 420.3840\n",
      "Epoch 15/100\n",
      " - 0s - loss: 420.3839\n",
      "Epoch 16/100\n",
      " - 0s - loss: 420.3831\n",
      "Epoch 17/100\n",
      " - 1s - loss: 420.3831\n",
      "Epoch 18/100\n",
      " - 1s - loss: 420.3831\n",
      "Epoch 19/100\n",
      " - 0s - loss: 420.3834\n",
      "Epoch 20/100\n",
      " - 0s - loss: 420.3829\n",
      "Epoch 21/100\n",
      " - 0s - loss: 420.3830\n",
      "Epoch 22/100\n",
      " - 1s - loss: 420.3839\n",
      "Epoch 23/100\n",
      " - 0s - loss: 420.3830\n",
      "Epoch 24/100\n",
      " - 0s - loss: 420.3829\n",
      "Epoch 25/100\n",
      " - 0s - loss: 420.3830\n",
      "Epoch 26/100\n",
      " - 1s - loss: 420.3829\n",
      "Epoch 27/100\n",
      " - 0s - loss: 420.3828\n",
      "Epoch 28/100\n",
      " - 0s - loss: 420.3832\n",
      "Epoch 29/100\n",
      " - 1s - loss: 420.3829\n",
      "Epoch 30/100\n",
      " - 0s - loss: 420.3831\n",
      "Epoch 31/100\n",
      " - 1s - loss: 420.3833\n",
      "Epoch 32/100\n",
      " - 0s - loss: 420.3829\n",
      "Epoch 33/100\n",
      " - 0s - loss: 420.3829\n",
      "Epoch 34/100\n",
      " - 0s - loss: 420.3829\n",
      "Epoch 35/100\n",
      " - 0s - loss: 420.3834\n",
      "Epoch 36/100\n",
      " - 1s - loss: 420.3828\n",
      "Epoch 37/100\n",
      " - 0s - loss: 420.3828\n",
      "Epoch 38/100\n",
      " - 0s - loss: 420.3832\n",
      "Epoch 39/100\n",
      " - 1s - loss: 420.3842\n",
      "Epoch 40/100\n",
      " - 1s - loss: 420.3829\n",
      "Epoch 41/100\n",
      " - 1s - loss: 420.3828\n",
      "Epoch 42/100\n",
      " - 0s - loss: 420.3828\n",
      "Epoch 43/100\n",
      " - 1s - loss: 420.3828\n",
      "Epoch 44/100\n",
      " - 0s - loss: 420.3829\n",
      "Epoch 45/100\n",
      " - 1s - loss: 420.3829\n",
      "Epoch 46/100\n",
      " - 0s - loss: 420.3830\n",
      "Epoch 47/100\n",
      " - 1s - loss: 420.3828\n",
      "Epoch 48/100\n",
      " - 0s - loss: 420.3828\n",
      "Epoch 49/100\n",
      " - 0s - loss: 420.3829\n",
      "Epoch 50/100\n",
      " - 1s - loss: 420.3831\n",
      "Epoch 51/100\n",
      " - 1s - loss: 420.3847\n",
      "Epoch 52/100\n",
      " - 0s - loss: 420.3828\n",
      "Epoch 53/100\n",
      " - 0s - loss: 420.3832\n",
      "Epoch 54/100\n",
      " - 1s - loss: 420.3831\n",
      "Epoch 55/100\n",
      " - 0s - loss: 420.3837\n",
      "Epoch 56/100\n",
      " - 1s - loss: 420.3828\n",
      "Epoch 57/100\n",
      " - 1s - loss: 420.3831\n",
      "Epoch 58/100\n",
      " - 1s - loss: 420.3828\n",
      "Epoch 59/100\n",
      " - 1s - loss: 420.3829\n",
      "Epoch 60/100\n",
      " - 0s - loss: 420.3831\n",
      "Epoch 61/100\n",
      " - 0s - loss: 420.3830\n",
      "Epoch 62/100\n",
      " - 1s - loss: 420.3831\n",
      "Epoch 63/100\n",
      " - 0s - loss: 420.3828\n",
      "Epoch 64/100\n",
      " - 0s - loss: 420.3828\n",
      "Epoch 65/100\n",
      " - 0s - loss: 420.3830\n",
      "Epoch 66/100\n",
      " - 1s - loss: 420.3829\n",
      "Epoch 67/100\n",
      " - 0s - loss: 420.3828\n",
      "Epoch 68/100\n",
      " - 0s - loss: 420.3828\n",
      "Epoch 69/100\n",
      " - 0s - loss: 420.3830\n",
      "Epoch 70/100\n",
      " - 1s - loss: 420.3832\n",
      "Epoch 71/100\n",
      " - 1s - loss: 420.3828\n",
      "Epoch 72/100\n",
      " - 0s - loss: 420.3831\n",
      "Epoch 73/100\n",
      " - 1s - loss: 420.3834\n",
      "Epoch 74/100\n",
      " - 1s - loss: 420.3834\n",
      "Epoch 75/100\n",
      " - 0s - loss: 420.3828\n",
      "Epoch 76/100\n",
      " - 0s - loss: 420.3828\n",
      "Epoch 77/100\n",
      " - 1s - loss: 420.3828\n",
      "Epoch 78/100\n",
      " - 1s - loss: 420.3831\n",
      "Epoch 79/100\n",
      " - 1s - loss: 420.3828\n",
      "Epoch 80/100\n",
      " - 0s - loss: 420.3835\n",
      "Epoch 81/100\n",
      " - 1s - loss: 420.3831\n",
      "Epoch 82/100\n",
      " - 1s - loss: 420.3828\n",
      "Epoch 83/100\n",
      " - 1s - loss: 420.3831\n",
      "Epoch 84/100\n",
      " - 1s - loss: 420.3835\n",
      "Epoch 85/100\n",
      " - 1s - loss: 420.3828\n",
      "Epoch 86/100\n",
      " - 0s - loss: 420.3829\n",
      "Epoch 87/100\n",
      " - 0s - loss: 420.3829\n",
      "Epoch 88/100\n",
      " - 1s - loss: 420.3830\n",
      "Epoch 89/100\n",
      " - 1s - loss: 420.3828\n",
      "Epoch 90/100\n",
      " - 0s - loss: 420.3828\n",
      "Epoch 91/100\n",
      " - 1s - loss: 420.3828\n",
      "Epoch 92/100\n",
      " - 0s - loss: 420.3828\n",
      "Epoch 93/100\n",
      " - 0s - loss: 420.3829\n",
      "Epoch 94/100\n",
      " - 1s - loss: 420.3833\n",
      "Epoch 95/100\n",
      " - 0s - loss: 420.3828\n",
      "Epoch 96/100\n",
      " - 0s - loss: 420.3831\n",
      "Epoch 97/100\n",
      " - 0s - loss: 420.3828\n",
      "Epoch 98/100\n",
      " - 0s - loss: 420.3828\n",
      "Epoch 99/100\n",
      " - 1s - loss: 420.3831\n",
      "Epoch 100/100\n",
      " - 0s - loss: 420.3828\n"
     ]
    }
   ],
   "source": [
    "model =new_model(0.2)\n",
    "model.fit(x_train, y_train, epochs=100, verbose=2)\n",
    "trainPredict = model.predict(x_train)\n",
    "testPredict = model.predict(x_test)\n"
   ]
  },
  {
   "cell_type": "code",
   "execution_count": 92,
   "metadata": {},
   "outputs": [
    {
     "name": "stdout",
     "output_type": "stream",
     "text": [
      "11.791334800880529\n"
     ]
    }
   ],
   "source": [
    "print(mean_absolute_error(y_test, testPredict))"
   ]
  },
  {
   "cell_type": "code",
   "execution_count": null,
   "metadata": {
    "collapsed": true
   },
   "outputs": [],
   "source": []
  }
 ],
 "metadata": {
  "kernelspec": {
   "display_name": "Python 3",
   "language": "python",
   "name": "python3"
  },
  "language_info": {
   "codemirror_mode": {
    "name": "ipython",
    "version": 3
   },
   "file_extension": ".py",
   "mimetype": "text/x-python",
   "name": "python",
   "nbconvert_exporter": "python",
   "pygments_lexer": "ipython3",
   "version": "3.6.3"
  }
 },
 "nbformat": 4,
 "nbformat_minor": 2
}
